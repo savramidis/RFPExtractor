{
 "cells": [
  {
   "cell_type": "markdown",
   "metadata": {},
   "source": [
    "# Local RFP Staffing Requirements Extractor (Azure OpenAI)\n",
    "\n",
    "This standalone notebook extracts staffing requirements from local RFP documents using Azure's OpenAI service with the GPT-4 model.  Structured outputs can be used if calling OpenAI directly, or once implemented with Azure.  Until then they are not being used, though you will seee commented code to make it work below.\n",
    "\n",
    "To use, create an extracted_RFP_key_personal folder in the same directory as this notebook and place a folder with the name of the RFP and all associated files in it.  There can be multiple directories, each with it's own set of RFP files.  \n",
    "\n",
    "The notebook will extract the staffing requirements from each RFP and save results to output folder, by default called extracted_RFP_key_personal."
   ]
  },
  {
   "cell_type": "markdown",
   "metadata": {},
   "source": [
    "## Setup"
   ]
  },
  {
   "cell_type": "code",
   "execution_count": null,
   "metadata": {},
   "outputs": [],
   "source": [
    "import os\n",
    "import json\n",
    "import logging\n",
    "from dotenv import load_dotenv\n",
    "from azure.core.credentials import AzureKeyCredential\n",
    "from openai import AzureOpenAI\n",
    "from docx import Document\n",
    "import pypdf\n",
    "\n",
    "# Load environment variables\n",
    "load_dotenv()\n",
    "\n",
    "# Configure logging\n",
    "logging.basicConfig(level=logging.INFO, format='%(asctime)s - %(levelname)s - %(message)s')\n",
    "\n",
    "# Initialize Azure OpenAI client\n",
    "client = AzureOpenAI(\n",
    "  azure_endpoint = os.getenv(\"AZURE_OPENAI_ENDPOINT\"), \n",
    "  api_key=os.getenv(\"AZURE_OPENAI_API_KEY\"),  \n",
    "  api_version=\"2024-06-01\"\n",
    ")\n",
    "\n",
    "# Set the deployment name for the model\n",
    "deployment_name = os.getenv(\"AZURE_OPENAI_DEPLOYMENT_NAME\")"
   ]
  },
  {
   "cell_type": "markdown",
   "metadata": {},
   "source": [
    "## Helper Functions"
   ]
  },
  {
   "cell_type": "code",
   "execution_count": null,
   "metadata": {},
   "outputs": [],
   "source": [
    "def read_file(file_path):\n",
    "    _, file_extension = os.path.splitext(file_path)\n",
    "    content = \"\"\n",
    "    \n",
    "    if file_extension.lower() == '.pdf':\n",
    "        with open(file_path, 'rb') as file:\n",
    "            pdf_reader = pypdf.PdfReader(file)\n",
    "            for page in pdf_reader.pages:\n",
    "                content += page.extract_text()\n",
    "    elif file_extension.lower() == '.docx':\n",
    "        doc = Document(file_path)\n",
    "        for para in doc.paragraphs:\n",
    "            content += para.text + \"\\n\"\n",
    "    else:\n",
    "        logging.warning(f\"Unsupported file type: {file_path}\")\n",
    "    \n",
    "    return content\n",
    "\n",
    "def process_rfp_folder_local(folder_path):\n",
    "    logging.info(f\"Processing RFP folder: {folder_path}\")\n",
    "    rfp_id = os.path.basename(folder_path)\n",
    "    all_content = \"\"\n",
    "    \n",
    "    for file_name in os.listdir(folder_path):\n",
    "        file_path = os.path.join(folder_path, file_name)\n",
    "        if file_path.lower().endswith(('.pdf', '.docx')):\n",
    "            all_content += read_file(file_path) + \"\\n\\n\"\n",
    "    print(all_content);\n",
    "     \n",
    "    return rfp_id, all_content\n"
   ]
  },
  {
   "cell_type": "markdown",
   "metadata": {},
   "source": [
    "## Azure OpenAI Function with Structured Output"
   ]
  },
  {
   "cell_type": "code",
   "execution_count": null,
   "metadata": {},
   "outputs": [],
   "source": [
    "def extract_roles_and_requirements_local(content, rfp_id):\n",
    "    logging.info(f\"Extracting roles and requirements for RFP: {rfp_id}\")\n",
    " \n",
    "    response = client.chat.completions.create(\n",
    "        model=deployment_name,\n",
    "        messages=[\n",
    "            {\"role\": \"system\", \"content\": \"You are an expert in analyzing RFP documents and extracting staffing requirements.\"},\n",
    "            {\"role\": \"user\", \"content\": f\"Analyze the following RFP content and extract the required roles and their requirements.\\n\\nRFP Content:\\n{content}\"}\n",
    "        ],\n",
    "        # response_format= {\n",
    "        #     \"type\": \"json_schema\",\n",
    "        #     \"json_schema\": {\n",
    "        #         \"name\": \"RFP_Staff_Requirements\",\n",
    "        #         \"schema\":{\n",
    "        #             \"type\": \"object\",\n",
    "        #             \"properties\": {\n",
    "        #                 \"RFP_ID\": {\"type\": \"string\"},\n",
    "        #                 \"Title\": {\"type\": \"string\"},\n",
    "        #                 \"Required_Roles\": {\n",
    "        #                     \"type\": \"array\",\n",
    "        #                     \"items\": {\n",
    "        #                         \"type\": \"object\",\n",
    "        #                         \"properties\": {\n",
    "        #                             \"Role\": {\"type\": \"string\"},\n",
    "        #                             \"Requirements\": {\n",
    "        #                                 \"type\": \"array\",\n",
    "        #                                 \"items\": {\"type\": \"string\"}\n",
    "        #                             }\n",
    "        #                         },\n",
    "        #                         \"required\": [\"Role\", \"Requirements\"]\n",
    "        #                     }\n",
    "        #                 }\n",
    "        #             },\n",
    "        #             \"required\": [\"RFP_ID\", \"Title\", \"Required_Roles\"]\n",
    "        #         },\n",
    "        #         \"strict\":True\n",
    "        #     }\n",
    "        # } \n",
    "    )\n",
    "    # extracted_info = json.loads(response.choices[0].message.content)\n",
    "    extracted_info = response.choices[0].message.content\n",
    "    #extracted_info[\"RFP_ID\"] = rfp_id\n",
    "    \n",
    "    logging.info(f\"Token usage for RFP {rfp_id}: {response.usage.total_tokens} tokens\")\n",
    "    \n",
    "    return extracted_info \n",
    "\n"
   ]
  },
  {
   "cell_type": "markdown",
   "metadata": {},
   "source": [
    "## Main Processing Loop\n",
    "Processes all RFP folders and saves the extracted information."
   ]
  },
  {
   "cell_type": "code",
   "execution_count": null,
   "metadata": {},
   "outputs": [],
   "source": [
    "def main():\n",
    "    input_dir = \"Input_RFPs\"\n",
    "    output_dir = \"Extracted_RFP_key_personnel\"\n",
    "    \n",
    "    os.makedirs(output_dir, exist_ok=True)\n",
    "    \n",
    "    for folder_name in os.listdir(input_dir):\n",
    "        folder_path = os.path.join(input_dir, folder_name)\n",
    "        if os.path.isdir(folder_path):\n",
    "            try:\n",
    "                rfp_id, content = process_rfp_folder_local(folder_path)\n",
    "                extracted_info = extract_roles_and_requirements_local(content, rfp_id)\n",
    "                output_file = os.path.join(output_dir, f\"{rfp_id}_extracted_info.txt\")\n",
    "                #with open(output_file, 'w') as f:\n",
    "                #    json.dump(extracted_info, f, indent=2)\n",
    "                with open(output_file, 'w') as file:\n",
    "                    file.write(extracted_info)\n",
    "\n",
    "\n",
    "                logging.info(f\"Extracted information saved to {output_file}\")\n",
    "            \n",
    "            except Exception as e:\n",
    "                logging.error(f\"Error processing RFP {folder_name}: {str(e)}\")"
   ]
  },
  {
   "cell_type": "markdown",
   "metadata": {},
   "source": [
    "## Run the Extraction Process\n"
   ]
  },
  {
   "cell_type": "code",
   "execution_count": null,
   "metadata": {},
   "outputs": [],
   "source": [
    "if __name__ == \"__main__\":\n",
    "    main()"
   ]
  },
  {
   "cell_type": "markdown",
   "metadata": {},
   "source": [
    "## Conclusion\n",
    "This notebook has processed all RFP documents in the `Input_RFPs` directory and saved the extracted staffing requirements as JSON files in the `extracted_RFP_key_personnel` directory. Check the console output for any error messages or logs."
   ]
  }
 ],
 "metadata": {
  "kernelspec": {
   "display_name": "Python 3",
   "language_info": "python",
   "name": "python3"
  },
  "language_info": {
   "codemirror_mode": {
    "name": "ipython",
    "version": 3
   },
   "file_extension": ".py",
   "mimetype": "text/x-python",
   "name": "python",
   "nbconvert_exporter": "python",
   "pygments_lexer": "ipython3",
   "version": "3.12.4"
  }
 },
 "nbformat": 4,
 "nbformat_minor": 4
}
